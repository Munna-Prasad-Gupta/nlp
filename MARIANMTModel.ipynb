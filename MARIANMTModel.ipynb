{
  "nbformat": 4,
  "nbformat_minor": 0,
  "metadata": {
    "colab": {
      "provenance": [],
      "authorship_tag": "ABX9TyNbV7pDiMATDKJ/teterok2",
      "include_colab_link": true
    },
    "kernelspec": {
      "name": "python3",
      "display_name": "Python 3"
    },
    "language_info": {
      "name": "python"
    }
  },
  "cells": [
    {
      "cell_type": "markdown",
      "metadata": {
        "id": "view-in-github",
        "colab_type": "text"
      },
      "source": [
        "<a href=\"https://colab.research.google.com/github/Munna-Prasad-Gupta/nlp/blob/main/MARIANMTModel.ipynb\" target=\"_parent\"><img src=\"https://colab.research.google.com/assets/colab-badge.svg\" alt=\"Open In Colab\"/></a>"
      ]
    },
    {
      "cell_type": "code",
      "execution_count": null,
      "metadata": {
        "colab": {
          "base_uri": "https://localhost:8080/"
        },
        "id": "yEm0ArJWIib4",
        "outputId": "2e6fe5e8-985a-4b07-f020-0024b214921c"
      },
      "outputs": [
        {
          "output_type": "stream",
          "name": "stderr",
          "text": [
            "/usr/local/lib/python3.10/dist-packages/transformers/models/marian/tokenization_marian.py:175: UserWarning: Recommended: pip install sacremoses.\n",
            "  warnings.warn(\"Recommended: pip install sacremoses.\")\n",
            "/usr/local/lib/python3.10/dist-packages/transformers/tokenization_utils_base.py:1601: FutureWarning: `clean_up_tokenization_spaces` was not set. It will be set to `True` by default. This behavior will be depracted in transformers v4.45, and will be then set to `False` by default. For more details check this issue: https://github.com/huggingface/transformers/issues/31884\n",
            "  warnings.warn(\n"
          ]
        },
        {
          "output_type": "stream",
          "name": "stdout",
          "text": [
            "Campus -> ട്രാൻസ്ലേറ്റീവ്: Campos\n",
            "Lecture -> വിനിമയതലം: ലക്ചർ\n",
            "Classroom -> പരിഭാഷപ്പെടുത്തുക: ക്ലാസ് മുറി\n",
            "Professor -> പരിഭാഷകൻ:\n",
            "Student -> പരിഭാഷകൻ:\n",
            "Tuition -> പരിഭാഷ:\n",
            "Degree -> പരിഭാഷ :\n",
            "Bachelor's -> പരിഭാഷകൻ:\n",
            "Master's -> ട്രാൻസ്ലേറ്റീവ്:\n",
            "PhD -> പരിഭാഷപ്പെടുത്തുക: PD\n",
            "Course -> വിനിമയതലം:\n",
            "Seminar -> ട്രാൻസ്ലേറ്റീവ്: സെമിനാർ\n",
            "Syllabus -> പരിഭാഷ: സിലബസ്\n",
            "Assignment -> പരിഭാഷ: അപ്പോയിൻറ്മെൻറ്\n",
            "Exam -> പരിഭാഷപ്പെടുത്തുക:\n",
            "Quiz -> പരിഭാഷ: ക്വിസ്\n",
            "Midterm -> ട്രാൻസ്ലേറ്റീവ്: Midthman. kgm\n",
            "Finals -> പരിഭാഷ:\n",
            "Research -> റിസൾട്ട് ചെയ്യുക:\n",
            "Thesis -> പരിഭാഷ:\n",
            "Dissertation -> വിനിമയതലം: വിനിമയതലം\n",
            "Library -> വിനിമയതലം: ഗ്രന്ഥാവലി\n",
            "Laboratory -> പരിഭാഷപ്പെടുത്തുക: ലബോറട്ടറി\n",
            "Department -> വിനിമയതലം: ഡിപ്പാർട്ട്മെൻറ്\n",
            "Faculty -> പരിഭാഷപ്പെടുത്തുക: ഫാക്ടറി\n",
            "Dean -> ട്രാൻസ്ലേറ്റ്: ഡീൻ\n",
            "Chancellor -> പരിഭാഷകൻ:\n",
            "Registrar -> പരിഭാഷകൻ:\n",
            "Admissions -> പരിഭാഷപ്പെടുത്തുക: അഡ്മിഷൻ\n",
            "Enrollment -> ട്രാൻസ്ലേറ്റീവ്: എൻട്രോളേഷൻ\n",
            "Graduate -> വിനിമയതലം: ബിരുദം\n",
            "Undergraduate -> പരിഭാഷപ്പെടുത്തുക:\n",
            "Postgraduate -> പരിഭാഷപ്പെടുത്തുക: പോസ്റ്റ്ഗ്രാഡ്\n",
            "Scholarship -> വിനിമയതലം: സ്കോളർഷിപ്പ്\n",
            "Fellowship -> വിനിമയതലം: സഖ്യം\n",
            "Tuition -> പരിഭാഷ:\n",
            "Credit -> പരിഭാഷ: ക്രെഡിറ്റ്\n",
            "Transcript -> പരിഭാഷപ്പെടുത്തുക:\n",
            "GPA -> പരിഭാഷ: ജിപിഎ\n",
            "Semester -> പരിഭാഷകൻ:\n",
            "Trimester -> ട്രാൻസ്മിറ്റർ:\n",
            "Quarter -> പരിഭാഷ: ക്വാർട്ടർ\n",
            "Lecture Hall -> ട്രാൻസ്ലേറ്റീവ് ഹാൾ:\n",
            "Cafeteria -> പരിഭാഷ: Check date values in: date= (help)\n",
            "Dormitory -> പരിഭാഷ : ഡോർമിറ്റി\n",
            "Residence -> പരിഭാഷപ്പെടുത്തുക:\n",
            "Campus Store -> ട്രാൻസ്ലേറ്റീവ്: Computer Society\n",
            "Internship -> ട്രാൻസ്ലേറ്റീവ്: ആന്തരികവൽക്കരണം\n",
            "Extracurricular -> പരിഭാഷ :\n",
            "Counselor -> പരിഭാഷകൻ:\n",
            "Advisor -> പരിഭാഷകൻ:\n",
            "Mentor -> പരിഭാഷകൻ:\n",
            "Alumni -> പരിഭാഷ: അലുമിനിയം\n",
            "Conference -> പരിഭാഷ: കോൺഫറൻസ്\n",
            "Workshop -> പരിഭാഷപ്പെടുത്തുക: വർക്ക്ഷോപ്പ്\n",
            "Grant -> പരിഭാഷപ്പെടുത്തുക: ഗ്രാൻഡ്\n",
            "Research Paper -> പരിഭാഷപ്പെടുത്തുക: റിസപ്ഷൻ കടലാസ്\n",
            "Publication -> പരിഭാഷപ്പെടുത്തുക: പബ്ലിക്\n",
            "Journal -> പരിഭാഷപ്പെടുത്തുക: ജേർണൽ\n",
            "Peer Review -> പരിഭാഷപ്പെടുത്തുക: പെർ പുനരവലോകനം\n",
            "Accreditation -> ട്രാൻസ്ലേറ്റീവ്: അക്ഷാംശം\n",
            "Curriculum -> ട്രാൻസ്ലേറ്റീവ്: Current for country\n",
            "Major -> വിനിമയതലം:\n",
            "Minor -> പരിഭാഷപ്പെടുത്തുക: ചെറുത്\n",
            "Elective -> പരിഭാഷപ്പെടുത്തുക: ഇലക്ട്രിക്\n",
            "Compulsory -> പരിഭാഷപ്പെടുത്തുക: സമാഹരിക്കുക\n",
            "Online Course -> ട്രാൻസ്ലേറ്റ്: ഓൺലൈൻ കോഡ്\n",
            "Distance Learning -> പരിഭാഷ: ദൂരം\n",
            "Classmate -> ട്രാൻസ്ലേറ്റീവ്:\n",
            "Group Project -> ലക്ഷ്യം ഉറപ്പിക്കുക: ഗ്രൂപ്പ് പദ്ധതി\n",
            "Textbook -> പരിഭാഷപ്പെടുത്തുക: പാഠപുസ്തകം\n",
            "Lecture Notes -> പരിഭാഷ: ലക്ചർ കുറിപ്പുകൾ\n",
            "Presentation -> വിനിമയതലം: ആചരണം\n",
            "Whiteboard -> വിനിമയതലം: വൈറ്റ്ബോർഡ്\n",
            "Projector -> വിനിമയതലം: പ്രൊജക്ടർ\n",
            "Commencement -> ട്രാൻസ്ലേറ്റീവ്: Commission\n",
            "Convocation -> പരിഭാഷ:\n"
          ]
        }
      ],
      "source": [
        "  from transformers import MarianMTModel, MarianTokenizer\n",
        "\n",
        "  # Load the pre-trained MarianMT model and tokenizer for English-Hindi translation\n",
        "  model_name = 'Helsinki-NLP/opus-mt-en-ml'\n",
        "  model = MarianMTModel.from_pretrained(model_name)\n",
        "  tokenizer = MarianTokenizer.from_pretrained(model_name)\n",
        "\n",
        "  # Define the list of 50 English words for translation\n",
        "  university_words = [\n",
        "      \"Campus\", \"Lecture\", \"Classroom\", \"Professor\", \"Student\", \"Tuition\", \"Degree\",\n",
        "      \"Bachelor's\", \"Master's\", \"PhD\", \"Course\", \"Seminar\", \"Syllabus\", \"Assignment\",\n",
        "      \"Exam\", \"Quiz\", \"Midterm\", \"Finals\", \"Research\", \"Thesis\", \"Dissertation\", \"Library\",\n",
        "      \"Laboratory\", \"Department\", \"Faculty\", \"Dean\", \"Chancellor\", \"Registrar\", \"Admissions\",\n",
        "      \"Enrollment\", \"Graduate\", \"Undergraduate\", \"Postgraduate\", \"Scholarship\", \"Fellowship\",\n",
        "      \"Tuition\", \"Credit\", \"Transcript\", \"GPA\", \"Semester\", \"Trimester\", \"Quarter\", \"Lecture Hall\",\n",
        "      \"Cafeteria\", \"Dormitory\", \"Residence\", \"Campus Store\", \"Internship\", \"Extracurricular\",\n",
        "      \"Counselor\", \"Advisor\", \"Mentor\", \"Alumni\", \"Conference\", \"Workshop\", \"Grant\", \"Research Paper\",\n",
        "      \"Publication\", \"Journal\", \"Peer Review\", \"Accreditation\", \"Curriculum\", \"Major\", \"Minor\",\n",
        "      \"Elective\", \"Compulsory\", \"Online Course\", \"Distance Learning\", \"Classmate\", \"Group Project\",\n",
        "      \"Textbook\", \"Lecture Notes\", \"Presentation\", \"Whiteboard\", \"Projector\", \"Commencement\", \"Convocation\"\n",
        "  ]\n",
        "\n",
        "\n",
        "  # Prepare the words for translation (convert the list of words into sentences for the model)\n",
        "  university_sentences = [\"Translate: \" + word for word in university_words]\n",
        "\n",
        "  # Tokenize the sentences for MarianMT model\n",
        "  inputs = tokenizer(university_sentences, return_tensors=\"pt\", padding=True)\n",
        "\n",
        "  # Perform translation using the model\n",
        "  translated_tokens = model.generate(**inputs)\n",
        "\n",
        "  # Decode the translated sentences\n",
        "  translated_sentences = [tokenizer.decode(t, skip_special_tokens=True) for t in translated_tokens]\n",
        "\n",
        "  # Print the English words with their corresponding Hindi translations\n",
        "  for en_word, hi_translation in zip(university_words, translated_sentences):\n",
        "      print(f'{en_word} -> {hi_translation}')\n"
      ]
    }
  ]
}